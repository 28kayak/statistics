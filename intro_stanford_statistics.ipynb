{
  "nbformat": 4,
  "nbformat_minor": 0,
  "metadata": {
    "colab": {
      "name": "intro-stanford-statistics.ipynb",
      "provenance": [],
      "authorship_tag": "ABX9TyMH57g15BVDYzUE1ZzOvtYA",
      "include_colab_link": true
    },
    "kernelspec": {
      "name": "python3",
      "display_name": "Python 3"
    },
    "language_info": {
      "name": "python"
    }
  },
  "cells": [
    {
      "cell_type": "markdown",
      "metadata": {
        "id": "view-in-github",
        "colab_type": "text"
      },
      "source": [
        "<a href=\"https://colab.research.google.com/github/28kayak/statistics/blob/main/intro_stanford_statistics.ipynb\" target=\"_parent\"><img src=\"https://colab.research.google.com/assets/colab-badge.svg\" alt=\"Open In Colab\"/></a>"
      ]
    },
    {
      "cell_type": "markdown",
      "metadata": {
        "id": "aPqcl6nSw8PV"
      },
      "source": [
        "# Descriptive Statistics Importance \n",
        "## Example \n",
        "In January 1986, the spcae shuttle Challenger broke a part shortly after liftoff. \n",
        "The accident was caused by a part that was not desgined to fly at the unusually cold temperature of 29 degree in F at launch.\n",
        "Here are the launch-temperatures of the first 25 huttle missions (in degree F):\n",
        "\n",
        "\n",
        "```\n",
        "66,70,69,80,68,67,72,70,70,57,63,70,78,67,53,67,75,70,81,76,79,75,76,58,29\n",
        "```\n"
      ]
    },
    {
      "cell_type": "code",
      "metadata": {
        "id": "QIgz2u3zx28X"
      },
      "source": [
        "import seaborn as sns\n",
        "import pandas as pd\n",
        "import numpy as np\n"
      ],
      "execution_count": 1,
      "outputs": []
    },
    {
      "cell_type": "code",
      "metadata": {
        "colab": {
          "base_uri": "https://localhost:8080/",
          "height": 336
        },
        "id": "TX3hZugxx235",
        "outputId": "22349bfb-7642-4618-b394-032f9dbf5f57"
      },
      "source": [
        "temp = [66,70,69,80,68,67,72,70,70,57,63,70,78,67,53,67,75,70,81,76,79,75,76,58,29]\n",
        "# Plot the histogram thanks to the distplot function\n",
        "sns.distplot( a=temp, hist=True, kde=False, rug=False )"
      ],
      "execution_count": 5,
      "outputs": [
        {
          "output_type": "stream",
          "name": "stderr",
          "text": [
            "/usr/local/lib/python3.7/dist-packages/seaborn/distributions.py:2619: FutureWarning: `distplot` is a deprecated function and will be removed in a future version. Please adapt your code to use either `displot` (a figure-level function with similar flexibility) or `histplot` (an axes-level function for histograms).\n",
            "  warnings.warn(msg, FutureWarning)\n"
          ]
        },
        {
          "output_type": "execute_result",
          "data": {
            "text/plain": [
              "<matplotlib.axes._subplots.AxesSubplot at 0x7f6577b9a490>"
            ]
          },
          "metadata": {},
          "execution_count": 5
        },
        {
          "output_type": "display_data",
          "data": {
            "image/png": "[encoded data removed]",
            "text/plain": [
              "<Figure size 432x288 with 1 Axes>"
            ]
          },
          "metadata": {
            "needs_background": "light"
          }
        }
      ]
    },
    {
      "cell_type": "markdown",
      "metadata": {
        "id": "Ld4g8VWQVR23"
      },
      "source": [
        "As seeing the hist graph, we could quickly figure out that `29F is extremly cold temperature`\n",
        "## the 2 most important functions of descriptive statistics \n",
        "- Communicate information\n",
        "- Support reasoning about data\n",
        "\n",
        "\n",
        "\n",
        "\n"
      ]
    },
    {
      "cell_type": "markdown",
      "metadata": {
        "id": "-mFUKkgP1hrc"
      },
      "source": [
        "# Pie Chart, Bar Graph, and Histograms \n",
        "## Graphical Summaries of Data\n",
        "It is the best to use graphical summary to communicate information, because people prefer to look at pictures rather than at numbers.\n",
        "There are many ways to visualize data.\n",
        "The nature of the data and the goal of the visualization determine which method to choose.\n",
        "### Qualitative Data (i.e. colors, car types, ...)\n",
        "- pie chart\n",
        "  - each slice represents percentage.\n",
        "  - pie chart allows more easily to eyeball what fraction of the total a category corresponds to.\n",
        "- dot plot \n",
        "  - the position of the dot corresponds to the percentage.\n",
        "    - x-axis represents percent\n",
        "    - y-axis represents categories \n",
        "  - dot plot makes it easier to compare frequencies of various categories \n",
        "\n",
        "### Quantitative (i.e numbers) \n",
        "- if the data are quantitative, then they should be put on a number line \n",
        "- the ordering and the distance between the numbers convey important information. \n",
        "- `bar graph` is essentially a dot plot put on its side.\n",
        "- `histogram` allows to use blocks with different width.\n",
        "  - Key Point: the areas of the blocks are propotional to frequency\n",
        "  - the total area = 100% \n",
        "  - it is helpful to have a vertical scale (density scale)\n",
        "    - its unit is `% per unit` \n",
        "  - `histogram` gives two kinds of information about the data\n",
        "    - `Density(Crowding)`: the height of the bar tells how many subjects there are for one unit on the horizontal scale. \n",
        "    - EX: the hightest density is around age 19 as 0.04 = 4% of all subjects are age 19. In contrast, only about 0.7% of subjects fall into each one year range for ages 60-80.\n",
        "    - `Percentage(relative frequences)`: those are given by \n",
        "    `are = height * width`\n",
        "    - EX: about 14% of all subjects fall into the age range 60-80, ebcause the corresponding area is `(20years)*(0.7% per year)=14%`\n",
        "\n",
        "\n",
        "\n"
      ]
    },
    {
      "cell_type": "code",
      "metadata": {
        "id": "DppCQnMTBCA9"
      },
      "source": [
        ""
      ],
      "execution_count": null,
      "outputs": []
    },
    {
      "cell_type": "markdown",
      "metadata": {
        "id": "jOWighxCA7g-"
      },
      "source": [
        ""
      ]
    },
    {
      "cell_type": "markdown",
      "metadata": {
        "id": "W2fLPnpO1Xez"
      },
      "source": [
        ""
      ]
    },
    {
      "cell_type": "code",
      "metadata": {
        "id": "duEv_SJ3VQzE"
      },
      "source": [
        ""
      ],
      "execution_count": null,
      "outputs": []
    },
    {
      "cell_type": "code",
      "metadata": {
        "id": "vxj_g-BJU7Jx"
      },
      "source": [
        ""
      ],
      "execution_count": null,
      "outputs": []
    }
  ]
}